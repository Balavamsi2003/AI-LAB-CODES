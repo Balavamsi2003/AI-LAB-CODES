{
 "cells": [
  {
   "cell_type": "code",
   "execution_count": 2,
   "id": "2c004c90",
   "metadata": {},
   "outputs": [
    {
     "name": "stdout",
     "output_type": "stream",
     "text": [
      "Enter graph: {0:[1,2],1:[3],2:[3,4],3:[4],4:[0]}\n",
      "Enter source: 0\n",
      "Enter goal:4\n",
      "At step 1 :\n",
      "Frontier is : [1, 2]\n",
      "Explored is : [0, 1, 2]\n",
      "At step 2 :\n",
      "Frontier is : [2, 3]\n",
      "Explored is : [0, 1, 2, 3]\n",
      "At step 3 :\n",
      "Frontier is : [3, 4]\n",
      "Explored is : [0, 1, 2, 3, 4]\n",
      "At step 4 :\n",
      "Frontier is : [4]\n",
      "Explored is : [0, 1, 2, 3, 4]\n",
      "Found\n",
      "path is : [0, 2, 4]\n"
     ]
    }
   ],
   "source": [
    "#1a\n",
    "def goal_path(start,parent,p):\n",
    "    path=[]\n",
    "    while parent[p]!=p:\n",
    "        path.append(p)\n",
    "        p=parent[p]\n",
    "    path.append(start)\n",
    "    res=path[::-1]\n",
    "    print(\"path is :\",res)\n",
    "def bfs(graph, start, goal):\n",
    "    visited = []\n",
    "    queue = []\n",
    "    path=[]\n",
    "    parent={}\n",
    "    parent[start]=start\n",
    "    j=1\n",
    "    visited.append(start)\n",
    "    queue.append(start)\n",
    "    while queue:\n",
    "        p = queue.pop(0)\n",
    "        #print(p, end=\" \")\n",
    "        if p == goal:\n",
    "            print(\"Found\")\n",
    "            goal_path(start,parent,p)\n",
    "            break\n",
    "        for i in graph[p]:\n",
    "            if i not in visited:\n",
    "                visited.append(i)\n",
    "                queue.append(i)\n",
    "                parent[i]=p\n",
    "        print(f\"At step {j} :\")\n",
    "        print(\"Frontier is :\",queue)\n",
    "        print(\"Explored is :\",visited)\n",
    "        j+=1\n",
    "    return (\"Goal node not found\")\n",
    "graph=eval(input('Enter graph: '))\n",
    "s=int(input('Enter source: '))\n",
    "goal_node=int(input(\"Enter goal:\")) \n",
    "solution=bfs(graph, s, goal_node)"
   ]
  },
  {
   "cell_type": "code",
   "execution_count": 7,
   "id": "f8cfe16b",
   "metadata": {
    "scrolled": true
   },
   "outputs": [
    {
     "name": "stdout",
     "output_type": "stream",
     "text": [
      "Enter graph: {0:[1,2],1:[3],2:[3,4],3:[4],4:[0]}\n",
      "Enter source: 0\n",
      "Enter goal:4\n",
      "At step 1 :\n",
      "Frontier is : [1, 2]\n",
      "Explored is : [0, 1, 2]\n",
      "At step 2 :\n",
      "Frontier is : [1, 3, 4]\n",
      "Explored is : [0, 1, 2, 3, 4]\n",
      "Found\n",
      "path is : [0, 2, 4]\n"
     ]
    },
    {
     "data": {
      "text/plain": [
       "'Goal node not found'"
      ]
     },
     "execution_count": 7,
     "metadata": {},
     "output_type": "execute_result"
    }
   ],
   "source": [
    "\n",
    "def goal_path(start,parent,p):\n",
    "    path=[]\n",
    "    while parent[p]!=p:\n",
    "        path.append(p)\n",
    "        p=parent[p]\n",
    "    path.append(start)\n",
    "    res=path[::-1]\n",
    "    print(\"path is :\",res)\n",
    "def dfs(graph, start, goal):\n",
    "    visited = []\n",
    "    queue = []\n",
    "    path=[]\n",
    "    parent={}\n",
    "    parent[start]=start\n",
    "    j=1\n",
    "    visited.append(start)\n",
    "    queue.append(start)\n",
    "    while queue :\n",
    "        p = queue.pop()\n",
    "        #print(p, end=\" \")\n",
    "        if p == goal:\n",
    "            print(\"Found\")\n",
    "            goal_path(start,parent,p)\n",
    "            break\n",
    "        for i in graph[p]:\n",
    "            if i not in visited:\n",
    "                visited.append(i)\n",
    "                queue.append(i)\n",
    "                parent[i]=p\n",
    "        print(f\"At step {j} :\")\n",
    "        print(\"Frontier is :\",queue)\n",
    "        print(\"Explored is :\",visited)\n",
    "        j+=1\n",
    "    return (\"Goal node not found\")\n",
    "graph=eval(input('Enter graph: '))\n",
    "s=int(input('Enter source: '))\n",
    "goal_node = int(input(\"Enter goal:\"))\n",
    "dfs(graph, s, goal_node)"
   ]
  },
  {
   "cell_type": "markdown",
   "id": "833e029c",
   "metadata": {},
   "source": [
    "### IDFS"
   ]
  },
  {
   "cell_type": "code",
   "execution_count": 9,
   "id": "40ecd326",
   "metadata": {
    "scrolled": true
   },
   "outputs": [
    {
     "name": "stdout",
     "output_type": "stream",
     "text": [
      "Enter graph: {0:[1,2],1:[0,4],2:[0,3],3:[2,4],4:[1,3,5,6],5:[4,6],6:[4,5]}\n",
      "Enter source: 0\n",
      "Enter goal: 3\n",
      "At step 1 :\n",
      "Frontier is : [1, 2]\n",
      "Explored is : [0, 1, 2]\n",
      "At step 1 :\n",
      "Frontier is : [1, 2]\n",
      "Explored is : [0, 1, 2]\n",
      "At step 2 :\n",
      "Frontier is : [1, 3]\n",
      "Explored is : [0, 1, 2, 3]\n",
      "At step 1 :\n",
      "Frontier is : [1, 2]\n",
      "Explored is : [0, 1, 2]\n",
      "At step 2 :\n",
      "Frontier is : [1, 3]\n",
      "Explored is : [0, 1, 2, 3]\n",
      "[0, 2, 3]\n",
      "At step 1 :\n",
      "Frontier is : [1, 2]\n",
      "Explored is : [0, 1, 2]\n",
      "At step 2 :\n",
      "Frontier is : [1, 3]\n",
      "Explored is : [0, 1, 2, 3]\n",
      "[0, 2, 3]\n",
      "At step 1 :\n",
      "Frontier is : [1, 2]\n",
      "Explored is : [0, 1, 2]\n",
      "At step 2 :\n",
      "Frontier is : [1, 3]\n",
      "Explored is : [0, 1, 2, 3]\n",
      "[0, 2, 3]\n",
      "Goal node found\n"
     ]
    }
   ],
   "source": [
    "graph=eval(input('Enter graph: '))\n",
    "start=int(input('Enter source: '))\n",
    "goal=int(input('Enter goal: '))\n",
    "idfs(graph,start,goal)"
   ]
  },
  {
   "cell_type": "code",
   "execution_count": 7,
   "id": "208c8c6b",
   "metadata": {},
   "outputs": [],
   "source": [
    "def dls(graph,start,goal,depth):\n",
    "    frontier,explored,path=[],[],[]\n",
    "    explored.append(start)\n",
    "    frontier.append(start)\n",
    "    level,flag,j=0,0,1\n",
    "    while frontier and level <=depth:\n",
    "        node=frontier.pop()\n",
    "        path.append(node)\n",
    "        if node==goal:\n",
    "            flag=1\n",
    "            print(path)\n",
    "            return flag\n",
    "            break\n",
    "        for i in graph[node]:\n",
    "            if i not in explored:\n",
    "                explored.append(i)\n",
    "                frontier.append(i)\n",
    "        level+=1\n",
    "        print(f\"At step {j} :\")\n",
    "        print(\"Frontier is :\",frontier)\n",
    "        print(\"Explored is :\",explored)\n",
    "        j+=1\n",
    "    if len(frontier)==0 or level>depth:\n",
    "        return flag\n",
    "    \n",
    "    "
   ]
  },
  {
   "cell_type": "code",
   "execution_count": 8,
   "id": "12254451",
   "metadata": {},
   "outputs": [],
   "source": [
    "def idfs(graph,start,goal):\n",
    "    res=[]\n",
    "    for d in range(5):\n",
    "        res.append(dls(graph,start,goal,d))\n",
    "    if res[-1]==1:\n",
    "        print(\"Goal node found\")\n",
    "    else:\n",
    "        print(\"Goal node not found\")"
   ]
  },
  {
   "cell_type": "markdown",
   "id": "f4d8f17a",
   "metadata": {},
   "source": [
    "### Uniform cost"
   ]
  },
  {
   "cell_type": "code",
   "execution_count": 4,
   "id": "96464efe",
   "metadata": {},
   "outputs": [],
   "source": [
    "import heapq\n",
    "def uniform_cost(graph,start,goal):\n",
    "    explored=set()\n",
    "    frontier=[(0,start)]\n",
    "    path,j=[],1\n",
    "    while frontier:\n",
    "        path_cost,node=heapq.heappop(frontier)\n",
    "        path.append(node)\n",
    "        if node not in explored:\n",
    "            explored.add(node)\n",
    "            if node==goal:\n",
    "                print(\"goal node found\")\n",
    "                print(path)\n",
    "                return path_cost\n",
    "            for neighbour,neighbour_cost in graph[node].items():\n",
    "                if neighbour not in explored:\n",
    "                    heapq.heappush(frontier,(path_cost+neighbour_cost,neighbour))\n",
    "        print(f\"At step {j} :\")\n",
    "        print(\"Frontier is :\",frontier)\n",
    "        print(\"Explored is :\",explored)\n",
    "        j+=1\n",
    "    return None\n",
    "                "
   ]
  },
  {
   "cell_type": "code",
   "execution_count": 6,
   "id": "9fbc3df3",
   "metadata": {},
   "outputs": [
    {
     "name": "stdout",
     "output_type": "stream",
     "text": [
      "Enter graph:{'A':{'B':1,'C':3,'D':7},'B':{'D':5},'C':{'D':12}}\n",
      "Enter source: A\n",
      "Enter goal: C\n",
      "At step 1 :\n",
      "Frontier is : [(1, 'B'), (3, 'C'), (7, 'D')]\n",
      "Explored is : {'A'}\n",
      "At step 2 :\n",
      "Frontier is : [(3, 'C'), (7, 'D'), (6, 'D')]\n",
      "Explored is : {'A', 'B'}\n",
      "goal node found\n",
      "['A', 'B', 'C']\n",
      "3\n"
     ]
    }
   ],
   "source": [
    "g=eval(input(\"Enter graph:\"))\n",
    "#g={'A':{'D':10,'B':5},'B':{'C':4,'F':15},'C':{'E':8},'D':{'F':11},'F':{'E':4}}\n",
    "start=input('Enter source: ')\n",
    "goal=input('Enter goal: ')\n",
    "res=uniform_cost(g,start,goal)\n",
    "print(res)"
   ]
  },
  {
   "cell_type": "code",
   "execution_count": 11,
   "id": "dbcb9826",
   "metadata": {},
   "outputs": [
    {
     "name": "stdout",
     "output_type": "stream",
     "text": [
      "Frontier_1: deque(['A'])\n",
      "Frontier_2: deque(['F'])\n",
      "Explored_1: set()\n",
      "Explored_2: set()\n",
      "Frontier_1: deque(['B', 'C'])\n",
      "Frontier_2: deque(['C', 'E'])\n",
      "Explored_1: {'A'}\n",
      "Explored_2: {'F'}\n",
      "Intersection node is : C\n",
      "Path from A to F: ['A', 'C', 'F']\n"
     ]
    }
   ],
   "source": [
    "from collections import deque\n",
    "\n",
    "def bidirectional_search(graph, start, goal):\n",
    "    if start == goal:\n",
    "        return [start]\n",
    "\n",
    "    # Initialize frontiers for both searches\n",
    "    frontier_start = deque([start])\n",
    "    frontier_goal = deque([goal])\n",
    "\n",
    "    # Initialize explored sets for both searches\n",
    "    explored_start = set()\n",
    "    explored_goal = set()\n",
    "\n",
    "    # Initialize parent maps for both searches\n",
    "    parent_start = {start: None}\n",
    "    parent_goal = {goal: None}\n",
    "\n",
    "    while frontier_start and frontier_goal:\n",
    "        # Expand from the start side\n",
    "        print(\"Frontier_1:\",frontier_start);\n",
    "        print(\"Frontier_2:\",frontier_goal);\n",
    "        print(\"Explored_1:\",explored_start);\n",
    "        print(\"Explored_2:\",explored_goal);\n",
    "        current_start = frontier_start.popleft()\n",
    "        explored_start.add(current_start)\n",
    "        for neighbor in graph[current_start]:\n",
    "            if neighbor not in explored_start and neighbor not in frontier_start:\n",
    "                parent_start[neighbor] = current_start\n",
    "                frontier_start.append(neighbor)\n",
    "                if neighbor in explored_goal:\n",
    "                    return connect_paths(neighbor, parent_start, parent_goal)\n",
    "\n",
    "        # Expand from the goal side\n",
    "        current_goal = frontier_goal.popleft()\n",
    "        explored_goal.add(current_goal)\n",
    "        for neighbor in graph[current_goal]:\n",
    "            if neighbor not in explored_goal and neighbor not in frontier_goal:\n",
    "                parent_goal[neighbor] = current_goal\n",
    "                frontier_goal.append(neighbor)\n",
    "                if neighbor in explored_start:\n",
    "                    return connect_paths(neighbor, parent_start, parent_goal)\n",
    "\n",
    "    return None\n",
    "\n",
    "def connect_paths(meeting_point, parent_start, parent_goal):\n",
    "    #print(\"Intersection node is :\",meeting_point)\n",
    "    path_from_start = []\n",
    "    while meeting_point:\n",
    "        path_from_start.append(meeting_point)\n",
    "        meeting_point = parent_start[meeting_point]\n",
    "    path_from_start.reverse()\n",
    "\n",
    "    meeting_point = parent_goal[path_from_start[-1]]\n",
    "    print(\"Intersection node is :\",meeting_point)\n",
    "    while meeting_point:\n",
    "        path_from_start.append(meeting_point)\n",
    "        meeting_point = parent_goal[meeting_point]\n",
    "\n",
    "    return path_from_start\n",
    "\n",
    "# Example usage:\n",
    "graph = {\n",
    "    'A': ['B', 'C'],\n",
    "    'B': ['A', 'D', 'E'],\n",
    "    'C': ['A', 'F'],\n",
    "    'D': ['B'],\n",
    "    'E': ['B', 'F'],\n",
    "    'F': ['C', 'E']\n",
    "}\n",
    "\n",
    "start = 'A'\n",
    "goal = 'F'\n",
    "path = bidirectional_search(graph, start, goal)\n",
    "print(f\"Path from {start} to {goal}: {path}\")\n",
    "\n",
    "\n"
   ]
  },
  {
   "cell_type": "code",
   "execution_count": null,
   "id": "b4f279fa",
   "metadata": {},
   "outputs": [],
   "source": []
  }
 ],
 "metadata": {
  "kernelspec": {
   "display_name": "Python 3 (ipykernel)",
   "language": "python",
   "name": "python3"
  },
  "language_info": {
   "codemirror_mode": {
    "name": "ipython",
    "version": 3
   },
   "file_extension": ".py",
   "mimetype": "text/x-python",
   "name": "python",
   "nbconvert_exporter": "python",
   "pygments_lexer": "ipython3",
   "version": "3.9.12"
  }
 },
 "nbformat": 4,
 "nbformat_minor": 5
}
